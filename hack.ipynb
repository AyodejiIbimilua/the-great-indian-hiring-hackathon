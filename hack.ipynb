{
  "nbformat": 4,
  "nbformat_minor": 0,
  "metadata": {
    "colab": {
      "name": "hack.ipynb",
      "provenance": [],
      "collapsed_sections": [],
      "mount_file_id": "1lUMUeaWjxizZSArbEROOAsAIBXOAeuo2",
      "authorship_tag": "ABX9TyPsxX1tTAO97F+9DA8hGT80",
      "include_colab_link": true
    },
    "kernelspec": {
      "display_name": "Python 3",
      "name": "python3"
    }
  },
  "cells": [
    {
      "cell_type": "markdown",
      "metadata": {
        "id": "view-in-github",
        "colab_type": "text"
      },
      "source": [
        "<a href=\"https://colab.research.google.com/github/AyodejiIbimilua/the-great-indian-hiring-hackathon/blob/main/hack.ipynb\" target=\"_parent\"><img src=\"https://colab.research.google.com/assets/colab-badge.svg\" alt=\"Open In Colab\"/></a>"
      ]
    },
    {
      "cell_type": "code",
      "metadata": {
        "colab": {
          "base_uri": "https://localhost:8080/"
        },
        "id": "u5x40_v28Rur",
        "outputId": "7f4768b8-4c6a-4f81-8571-9a5d6fb15117"
      },
      "source": [
        "pip install catboost"
      ],
      "execution_count": null,
      "outputs": [
        {
          "output_type": "stream",
          "text": [
            "Collecting catboost\n",
            "\u001b[?25l  Downloading https://files.pythonhosted.org/packages/52/39/128fff65072c8327371e3c594f3c826d29c85b21cb6485980353b168e0e4/catboost-0.24.2-cp36-none-manylinux1_x86_64.whl (66.1MB)\n",
            "\u001b[K     |████████████████████████████████| 66.2MB 93kB/s \n",
            "\u001b[?25hRequirement already satisfied: scipy in /usr/local/lib/python3.6/dist-packages (from catboost) (1.4.1)\n",
            "Requirement already satisfied: graphviz in /usr/local/lib/python3.6/dist-packages (from catboost) (0.10.1)\n",
            "Requirement already satisfied: six in /usr/local/lib/python3.6/dist-packages (from catboost) (1.15.0)\n",
            "Requirement already satisfied: numpy>=1.16.0 in /usr/local/lib/python3.6/dist-packages (from catboost) (1.18.5)\n",
            "Requirement already satisfied: plotly in /usr/local/lib/python3.6/dist-packages (from catboost) (4.4.1)\n",
            "Requirement already satisfied: matplotlib in /usr/local/lib/python3.6/dist-packages (from catboost) (3.2.2)\n",
            "Requirement already satisfied: pandas>=0.24.0 in /usr/local/lib/python3.6/dist-packages (from catboost) (1.1.4)\n",
            "Requirement already satisfied: retrying>=1.3.3 in /usr/local/lib/python3.6/dist-packages (from plotly->catboost) (1.3.3)\n",
            "Requirement already satisfied: python-dateutil>=2.1 in /usr/local/lib/python3.6/dist-packages (from matplotlib->catboost) (2.8.1)\n",
            "Requirement already satisfied: kiwisolver>=1.0.1 in /usr/local/lib/python3.6/dist-packages (from matplotlib->catboost) (1.3.1)\n",
            "Requirement already satisfied: pyparsing!=2.0.4,!=2.1.2,!=2.1.6,>=2.0.1 in /usr/local/lib/python3.6/dist-packages (from matplotlib->catboost) (2.4.7)\n",
            "Requirement already satisfied: cycler>=0.10 in /usr/local/lib/python3.6/dist-packages (from matplotlib->catboost) (0.10.0)\n",
            "Requirement already satisfied: pytz>=2017.2 in /usr/local/lib/python3.6/dist-packages (from pandas>=0.24.0->catboost) (2018.9)\n",
            "Installing collected packages: catboost\n",
            "Successfully installed catboost-0.24.2\n"
          ],
          "name": "stdout"
        }
      ]
    },
    {
      "cell_type": "code",
      "metadata": {
        "id": "j-gDpEZ2LaxA"
      },
      "source": [
        "import numpy as np\n",
        "import pandas as pd\n",
        "import seaborn as sns\n",
        "import matplotlib.pyplot as pl\n",
        "from sklearn.model_selection import train_test_split\n",
        "from sklearn.preprocessing import StandardScaler, OneHotEncoder\n",
        "from sklearn.impute import SimpleImputer\n",
        "from sklearn.decomposition import PCA\n",
        "from sklearn.pipeline import Pipeline\n",
        "from sklearn.compose import ColumnTransformer\n",
        "from sklearn.linear_model import LinearRegression\n",
        "from sklearn.metrics import mean_squared_error,r2_score\n",
        "from sklearn.model_selection import train_test_split, GridSearchCV\n",
        "from catboost import CatBoostRegressor\n",
        "from lightgbm import LGBMRegressor\n",
        "from sklearn.ensemble import RandomForestRegressor\n",
        "from sklearn.ensemble import GradientBoostingRegressor"
      ],
      "execution_count": null,
      "outputs": []
    },
    {
      "cell_type": "code",
      "metadata": {
        "id": "Y27tWlVKUwL3"
      },
      "source": [
        "train_link = \"/content/drive/My Drive/Hackathons/The Great Indian Hiring Hackathon/Dataset/Train.csv\""
      ],
      "execution_count": null,
      "outputs": []
    },
    {
      "cell_type": "code",
      "metadata": {
        "id": "ztdEdgOMVGsV"
      },
      "source": [
        "raw_train = pd.read_csv(train_link)"
      ],
      "execution_count": null,
      "outputs": []
    },
    {
      "cell_type": "code",
      "metadata": {
        "colab": {
          "base_uri": "https://localhost:8080/",
          "height": 415
        },
        "id": "aiDUS_ftVL6A",
        "outputId": "dcfa1b94-6505-4c4e-ea93-d6b1c0ea5d5e"
      },
      "source": [
        "raw_train"
      ],
      "execution_count": null,
      "outputs": [
        {
          "output_type": "execute_result",
          "data": {
            "text/html": [
              "<div>\n",
              "<style scoped>\n",
              "    .dataframe tbody tr th:only-of-type {\n",
              "        vertical-align: middle;\n",
              "    }\n",
              "\n",
              "    .dataframe tbody tr th {\n",
              "        vertical-align: top;\n",
              "    }\n",
              "\n",
              "    .dataframe thead th {\n",
              "        text-align: right;\n",
              "    }\n",
              "</style>\n",
              "<table border=\"1\" class=\"dataframe\">\n",
              "  <thead>\n",
              "    <tr style=\"text-align: right;\">\n",
              "      <th></th>\n",
              "      <th>InvoiceNo</th>\n",
              "      <th>StockCode</th>\n",
              "      <th>Description</th>\n",
              "      <th>Quantity</th>\n",
              "      <th>InvoiceDate</th>\n",
              "      <th>UnitPrice</th>\n",
              "      <th>CustomerID</th>\n",
              "      <th>Country</th>\n",
              "    </tr>\n",
              "  </thead>\n",
              "  <tbody>\n",
              "    <tr>\n",
              "      <th>0</th>\n",
              "      <td>6141</td>\n",
              "      <td>1583</td>\n",
              "      <td>144</td>\n",
              "      <td>3</td>\n",
              "      <td>2011-05-06 16:54:00</td>\n",
              "      <td>3.75</td>\n",
              "      <td>14056.0</td>\n",
              "      <td>35.0</td>\n",
              "    </tr>\n",
              "    <tr>\n",
              "      <th>1</th>\n",
              "      <td>6349</td>\n",
              "      <td>1300</td>\n",
              "      <td>3682</td>\n",
              "      <td>6</td>\n",
              "      <td>2011-05-11 07:35:00</td>\n",
              "      <td>1.95</td>\n",
              "      <td>13098.0</td>\n",
              "      <td>35.0</td>\n",
              "    </tr>\n",
              "    <tr>\n",
              "      <th>2</th>\n",
              "      <td>16783</td>\n",
              "      <td>2178</td>\n",
              "      <td>1939</td>\n",
              "      <td>4</td>\n",
              "      <td>2011-11-20 13:20:00</td>\n",
              "      <td>5.95</td>\n",
              "      <td>15044.0</td>\n",
              "      <td>35.0</td>\n",
              "    </tr>\n",
              "    <tr>\n",
              "      <th>3</th>\n",
              "      <td>16971</td>\n",
              "      <td>2115</td>\n",
              "      <td>2983</td>\n",
              "      <td>1</td>\n",
              "      <td>2011-11-22 12:07:00</td>\n",
              "      <td>0.83</td>\n",
              "      <td>15525.0</td>\n",
              "      <td>35.0</td>\n",
              "    </tr>\n",
              "    <tr>\n",
              "      <th>4</th>\n",
              "      <td>6080</td>\n",
              "      <td>1210</td>\n",
              "      <td>2886</td>\n",
              "      <td>12</td>\n",
              "      <td>2011-05-06 09:00:00</td>\n",
              "      <td>1.65</td>\n",
              "      <td>13952.0</td>\n",
              "      <td>35.0</td>\n",
              "    </tr>\n",
              "    <tr>\n",
              "      <th>...</th>\n",
              "      <td>...</td>\n",
              "      <td>...</td>\n",
              "      <td>...</td>\n",
              "      <td>...</td>\n",
              "      <td>...</td>\n",
              "      <td>...</td>\n",
              "      <td>...</td>\n",
              "      <td>...</td>\n",
              "    </tr>\n",
              "    <tr>\n",
              "      <th>169714</th>\n",
              "      <td>4088</td>\n",
              "      <td>1076</td>\n",
              "      <td>3313</td>\n",
              "      <td>12</td>\n",
              "      <td>2011-03-18 12:26:00</td>\n",
              "      <td>0.85</td>\n",
              "      <td>15483.0</td>\n",
              "      <td>35.0</td>\n",
              "    </tr>\n",
              "    <tr>\n",
              "      <th>169715</th>\n",
              "      <td>13424</td>\n",
              "      <td>2995</td>\n",
              "      <td>825</td>\n",
              "      <td>16</td>\n",
              "      <td>2011-10-05 15:17:00</td>\n",
              "      <td>0.65</td>\n",
              "      <td>14389.0</td>\n",
              "      <td>35.0</td>\n",
              "    </tr>\n",
              "    <tr>\n",
              "      <th>169716</th>\n",
              "      <td>12104</td>\n",
              "      <td>2122</td>\n",
              "      <td>1376</td>\n",
              "      <td>2</td>\n",
              "      <td>2011-09-13 15:37:00</td>\n",
              "      <td>1.65</td>\n",
              "      <td>15998.0</td>\n",
              "      <td>35.0</td>\n",
              "    </tr>\n",
              "    <tr>\n",
              "      <th>169717</th>\n",
              "      <td>15853</td>\n",
              "      <td>928</td>\n",
              "      <td>1248</td>\n",
              "      <td>2</td>\n",
              "      <td>2011-11-09 17:47:00</td>\n",
              "      <td>1.25</td>\n",
              "      <td>15531.0</td>\n",
              "      <td>35.0</td>\n",
              "    </tr>\n",
              "    <tr>\n",
              "      <th>169718</th>\n",
              "      <td>10916</td>\n",
              "      <td>2108</td>\n",
              "      <td>504</td>\n",
              "      <td>8</td>\n",
              "      <td>2011-08-19 10:06:00</td>\n",
              "      <td>0.00</td>\n",
              "      <td>NaN</td>\n",
              "      <td>NaN</td>\n",
              "    </tr>\n",
              "  </tbody>\n",
              "</table>\n",
              "<p>169719 rows × 8 columns</p>\n",
              "</div>"
            ],
            "text/plain": [
              "        InvoiceNo  StockCode  Description  ...  UnitPrice CustomerID  Country\n",
              "0            6141       1583          144  ...       3.75    14056.0     35.0\n",
              "1            6349       1300         3682  ...       1.95    13098.0     35.0\n",
              "2           16783       2178         1939  ...       5.95    15044.0     35.0\n",
              "3           16971       2115         2983  ...       0.83    15525.0     35.0\n",
              "4            6080       1210         2886  ...       1.65    13952.0     35.0\n",
              "...           ...        ...          ...  ...        ...        ...      ...\n",
              "169714       4088       1076         3313  ...       0.85    15483.0     35.0\n",
              "169715      13424       2995          825  ...       0.65    14389.0     35.0\n",
              "169716      12104       2122         1376  ...       1.65    15998.0     35.0\n",
              "169717      15853        928         1248  ...       1.25    15531.0     35.0\n",
              "169718      10916       2108          504  ...       0.00        NaN      NaN\n",
              "\n",
              "[169719 rows x 8 columns]"
            ]
          },
          "metadata": {
            "tags": []
          },
          "execution_count": 6
        }
      ]
    },
    {
      "cell_type": "code",
      "metadata": {
        "colab": {
          "base_uri": "https://localhost:8080/"
        },
        "id": "qnC2MVl3gAgf",
        "outputId": "99980afc-4454-41be-c593-8b28e83044da"
      },
      "source": [
        "raw_train.isnull().sum()"
      ],
      "execution_count": null,
      "outputs": [
        {
          "output_type": "execute_result",
          "data": {
            "text/plain": [
              "InvoiceNo      0\n",
              "StockCode      0\n",
              "Description    0\n",
              "Quantity       0\n",
              "InvoiceDate    0\n",
              "UnitPrice      0\n",
              "CustomerID     1\n",
              "Country        1\n",
              "dtype: int64"
            ]
          },
          "metadata": {
            "tags": []
          },
          "execution_count": 7
        }
      ]
    },
    {
      "cell_type": "code",
      "metadata": {
        "colab": {
          "base_uri": "https://localhost:8080/"
        },
        "id": "Jq5NrkluVOt7",
        "outputId": "c572bc81-233c-4a39-dbd8-79dab88ae7cc"
      },
      "source": [
        "raw_train.info()"
      ],
      "execution_count": null,
      "outputs": [
        {
          "output_type": "stream",
          "text": [
            "<class 'pandas.core.frame.DataFrame'>\n",
            "RangeIndex: 169719 entries, 0 to 169718\n",
            "Data columns (total 8 columns):\n",
            " #   Column       Non-Null Count   Dtype  \n",
            "---  ------       --------------   -----  \n",
            " 0   InvoiceNo    169719 non-null  int64  \n",
            " 1   StockCode    169719 non-null  int64  \n",
            " 2   Description  169719 non-null  int64  \n",
            " 3   Quantity     169719 non-null  int64  \n",
            " 4   InvoiceDate  169719 non-null  object \n",
            " 5   UnitPrice    169719 non-null  float64\n",
            " 6   CustomerID   169718 non-null  float64\n",
            " 7   Country      169718 non-null  float64\n",
            "dtypes: float64(3), int64(4), object(1)\n",
            "memory usage: 10.4+ MB\n"
          ],
          "name": "stdout"
        }
      ]
    },
    {
      "cell_type": "code",
      "metadata": {
        "colab": {
          "base_uri": "https://localhost:8080/",
          "height": 294
        },
        "id": "7g1mXarhVprd",
        "outputId": "2123b1ed-f1ac-4cda-f421-cbd0cdb82195"
      },
      "source": [
        "raw_train.describe()"
      ],
      "execution_count": null,
      "outputs": [
        {
          "output_type": "execute_result",
          "data": {
            "text/html": [
              "<div>\n",
              "<style scoped>\n",
              "    .dataframe tbody tr th:only-of-type {\n",
              "        vertical-align: middle;\n",
              "    }\n",
              "\n",
              "    .dataframe tbody tr th {\n",
              "        vertical-align: top;\n",
              "    }\n",
              "\n",
              "    .dataframe thead th {\n",
              "        text-align: right;\n",
              "    }\n",
              "</style>\n",
              "<table border=\"1\" class=\"dataframe\">\n",
              "  <thead>\n",
              "    <tr style=\"text-align: right;\">\n",
              "      <th></th>\n",
              "      <th>InvoiceNo</th>\n",
              "      <th>StockCode</th>\n",
              "      <th>Description</th>\n",
              "      <th>Quantity</th>\n",
              "      <th>UnitPrice</th>\n",
              "      <th>CustomerID</th>\n",
              "      <th>Country</th>\n",
              "    </tr>\n",
              "  </thead>\n",
              "  <tbody>\n",
              "    <tr>\n",
              "      <th>count</th>\n",
              "      <td>169719.000000</td>\n",
              "      <td>169719.000000</td>\n",
              "      <td>169719.000000</td>\n",
              "      <td>169719.000000</td>\n",
              "      <td>169719.000000</td>\n",
              "      <td>169718.000000</td>\n",
              "      <td>169718.000000</td>\n",
              "    </tr>\n",
              "    <tr>\n",
              "      <th>mean</th>\n",
              "      <td>9952.817976</td>\n",
              "      <td>1574.367348</td>\n",
              "      <td>2023.911171</td>\n",
              "      <td>12.415893</td>\n",
              "      <td>3.517202</td>\n",
              "      <td>15287.814504</td>\n",
              "      <td>32.820490</td>\n",
              "    </tr>\n",
              "    <tr>\n",
              "      <th>std</th>\n",
              "      <td>5553.404093</td>\n",
              "      <td>843.434147</td>\n",
              "      <td>1090.053952</td>\n",
              "      <td>187.160632</td>\n",
              "      <td>97.659763</td>\n",
              "      <td>1715.382371</td>\n",
              "      <td>6.745904</td>\n",
              "    </tr>\n",
              "    <tr>\n",
              "      <th>min</th>\n",
              "      <td>0.000000</td>\n",
              "      <td>0.000000</td>\n",
              "      <td>0.000000</td>\n",
              "      <td>-1930.000000</td>\n",
              "      <td>0.000000</td>\n",
              "      <td>12346.000000</td>\n",
              "      <td>0.000000</td>\n",
              "    </tr>\n",
              "    <tr>\n",
              "      <th>25%</th>\n",
              "      <td>5060.000000</td>\n",
              "      <td>942.000000</td>\n",
              "      <td>1143.000000</td>\n",
              "      <td>2.000000</td>\n",
              "      <td>1.250000</td>\n",
              "      <td>13952.000000</td>\n",
              "      <td>35.000000</td>\n",
              "    </tr>\n",
              "    <tr>\n",
              "      <th>50%</th>\n",
              "      <td>10306.000000</td>\n",
              "      <td>1524.000000</td>\n",
              "      <td>1986.000000</td>\n",
              "      <td>5.000000</td>\n",
              "      <td>1.950000</td>\n",
              "      <td>15150.000000</td>\n",
              "      <td>35.000000</td>\n",
              "    </tr>\n",
              "    <tr>\n",
              "      <th>75%</th>\n",
              "      <td>14657.000000</td>\n",
              "      <td>2106.000000</td>\n",
              "      <td>2947.000000</td>\n",
              "      <td>12.000000</td>\n",
              "      <td>3.750000</td>\n",
              "      <td>16795.000000</td>\n",
              "      <td>35.000000</td>\n",
              "    </tr>\n",
              "    <tr>\n",
              "      <th>max</th>\n",
              "      <td>22188.000000</td>\n",
              "      <td>3683.000000</td>\n",
              "      <td>3895.000000</td>\n",
              "      <td>74215.000000</td>\n",
              "      <td>38970.000000</td>\n",
              "      <td>18287.000000</td>\n",
              "      <td>36.000000</td>\n",
              "    </tr>\n",
              "  </tbody>\n",
              "</table>\n",
              "</div>"
            ],
            "text/plain": [
              "           InvoiceNo      StockCode  ...     CustomerID        Country\n",
              "count  169719.000000  169719.000000  ...  169718.000000  169718.000000\n",
              "mean     9952.817976    1574.367348  ...   15287.814504      32.820490\n",
              "std      5553.404093     843.434147  ...    1715.382371       6.745904\n",
              "min         0.000000       0.000000  ...   12346.000000       0.000000\n",
              "25%      5060.000000     942.000000  ...   13952.000000      35.000000\n",
              "50%     10306.000000    1524.000000  ...   15150.000000      35.000000\n",
              "75%     14657.000000    2106.000000  ...   16795.000000      35.000000\n",
              "max     22188.000000    3683.000000  ...   18287.000000      36.000000\n",
              "\n",
              "[8 rows x 7 columns]"
            ]
          },
          "metadata": {
            "tags": []
          },
          "execution_count": 9
        }
      ]
    },
    {
      "cell_type": "code",
      "metadata": {
        "colab": {
          "base_uri": "https://localhost:8080/"
        },
        "id": "elQgBAW2VyFQ",
        "outputId": "119df3a0-5f77-4e28-92aa-557985d4893c"
      },
      "source": [
        "np.unique(raw_train.Country)"
      ],
      "execution_count": null,
      "outputs": [
        {
          "output_type": "execute_result",
          "data": {
            "text/plain": [
              "array([ 0.,  1.,  2.,  3.,  4.,  5.,  6.,  7.,  8.,  9., 10., 11., 12.,\n",
              "       13., 14., 15., 16., 17., 18., 19., 20., 21., 22., 23., 24., 25.,\n",
              "       26., 27., 28., 29., 30., 31., 32., 33., 34., 35., 36., nan])"
            ]
          },
          "metadata": {
            "tags": []
          },
          "execution_count": 10
        }
      ]
    },
    {
      "cell_type": "code",
      "metadata": {
        "colab": {
          "base_uri": "https://localhost:8080/"
        },
        "id": "3mb95RewV9JO",
        "outputId": "982cfc9b-3c27-4f2c-db4c-4c0cc206acdc"
      },
      "source": [
        "len(np.unique(raw_train.CustomerID))"
      ],
      "execution_count": null,
      "outputs": [
        {
          "output_type": "execute_result",
          "data": {
            "text/plain": [
              "4274"
            ]
          },
          "metadata": {
            "tags": []
          },
          "execution_count": 11
        }
      ]
    },
    {
      "cell_type": "code",
      "metadata": {
        "colab": {
          "base_uri": "https://localhost:8080/"
        },
        "id": "EmlPD4OxWS7D",
        "outputId": "2dfe968e-c73f-4185-e782-a8194923add3"
      },
      "source": [
        "len(np.unique(raw_train.Description))"
      ],
      "execution_count": null,
      "outputs": [
        {
          "output_type": "execute_result",
          "data": {
            "text/plain": [
              "3679"
            ]
          },
          "metadata": {
            "tags": []
          },
          "execution_count": 12
        }
      ]
    },
    {
      "cell_type": "code",
      "metadata": {
        "colab": {
          "base_uri": "https://localhost:8080/"
        },
        "id": "H0CZH0hTWt-2",
        "outputId": "b6c8167b-7a8e-497b-f396-65cd4017898e"
      },
      "source": [
        "len(np.unique(raw_train.StockCode))"
      ],
      "execution_count": null,
      "outputs": [
        {
          "output_type": "execute_result",
          "data": {
            "text/plain": [
              "3506"
            ]
          },
          "metadata": {
            "tags": []
          },
          "execution_count": 13
        }
      ]
    },
    {
      "cell_type": "code",
      "metadata": {
        "colab": {
          "base_uri": "https://localhost:8080/"
        },
        "id": "UXJuSUtgXBZR",
        "outputId": "5b2bb270-d303-4988-d772-1e8b5b81bbe3"
      },
      "source": [
        "len(np.unique(raw_train.InvoiceNo))"
      ],
      "execution_count": null,
      "outputs": [
        {
          "output_type": "execute_result",
          "data": {
            "text/plain": [
              "19285"
            ]
          },
          "metadata": {
            "tags": []
          },
          "execution_count": 14
        }
      ]
    },
    {
      "cell_type": "code",
      "metadata": {
        "colab": {
          "base_uri": "https://localhost:8080/"
        },
        "id": "rMfziB-3XE4j",
        "outputId": "203542ec-37f3-401a-8799-26b347bb8bc8"
      },
      "source": [
        "len(np.unique(raw_train.InvoiceDate))"
      ],
      "execution_count": null,
      "outputs": [
        {
          "output_type": "execute_result",
          "data": {
            "text/plain": [
              "17996"
            ]
          },
          "metadata": {
            "tags": []
          },
          "execution_count": 15
        }
      ]
    },
    {
      "cell_type": "code",
      "metadata": {
        "id": "sTyjTuGGPWEQ"
      },
      "source": [
        "raw_train.dropna(inplace=True)"
      ],
      "execution_count": null,
      "outputs": []
    },
    {
      "cell_type": "code",
      "metadata": {
        "id": "ddSRMamiXIXE"
      },
      "source": [
        "raw_train['InvoiceDate'] = pd.to_datetime(raw_train.InvoiceDate)\n",
        "raw_train[\"Year\"] = raw_train.InvoiceDate.dt.year\n",
        "raw_train[\"Month\"] = raw_train.InvoiceDate.dt.month_name()\n",
        "raw_train[\"Day\"] = raw_train.InvoiceDate.dt.daysinmonth\n",
        "raw_train[\"WeekDay\"] = raw_train.InvoiceDate.dt.day_name()\n",
        "raw_train[\"MonthEnd\"] = raw_train.InvoiceDate.dt.is_year_end\n",
        "raw_train[\"YearEnd\"] = raw_train.InvoiceDate.dt.is_month_end"
      ],
      "execution_count": null,
      "outputs": []
    },
    {
      "cell_type": "code",
      "metadata": {
        "colab": {
          "base_uri": "https://localhost:8080/",
          "height": 589
        },
        "id": "30A95LpEUJvo",
        "outputId": "a4e825ff-10be-4d2d-bd67-832981f02d0f"
      },
      "source": [
        "raw_train"
      ],
      "execution_count": null,
      "outputs": [
        {
          "output_type": "execute_result",
          "data": {
            "text/html": [
              "<div>\n",
              "<style scoped>\n",
              "    .dataframe tbody tr th:only-of-type {\n",
              "        vertical-align: middle;\n",
              "    }\n",
              "\n",
              "    .dataframe tbody tr th {\n",
              "        vertical-align: top;\n",
              "    }\n",
              "\n",
              "    .dataframe thead th {\n",
              "        text-align: right;\n",
              "    }\n",
              "</style>\n",
              "<table border=\"1\" class=\"dataframe\">\n",
              "  <thead>\n",
              "    <tr style=\"text-align: right;\">\n",
              "      <th></th>\n",
              "      <th>InvoiceNo</th>\n",
              "      <th>StockCode</th>\n",
              "      <th>Description</th>\n",
              "      <th>Quantity</th>\n",
              "      <th>InvoiceDate</th>\n",
              "      <th>UnitPrice</th>\n",
              "      <th>CustomerID</th>\n",
              "      <th>Country</th>\n",
              "      <th>Year</th>\n",
              "      <th>Month</th>\n",
              "      <th>Day</th>\n",
              "      <th>WeekDay</th>\n",
              "      <th>MonthEnd</th>\n",
              "      <th>YearEnd</th>\n",
              "    </tr>\n",
              "  </thead>\n",
              "  <tbody>\n",
              "    <tr>\n",
              "      <th>0</th>\n",
              "      <td>6141</td>\n",
              "      <td>1583</td>\n",
              "      <td>144</td>\n",
              "      <td>3</td>\n",
              "      <td>2011-05-06 16:54:00</td>\n",
              "      <td>3.75</td>\n",
              "      <td>14056.0</td>\n",
              "      <td>35.0</td>\n",
              "      <td>2011</td>\n",
              "      <td>May</td>\n",
              "      <td>31</td>\n",
              "      <td>Friday</td>\n",
              "      <td>False</td>\n",
              "      <td>False</td>\n",
              "    </tr>\n",
              "    <tr>\n",
              "      <th>1</th>\n",
              "      <td>6349</td>\n",
              "      <td>1300</td>\n",
              "      <td>3682</td>\n",
              "      <td>6</td>\n",
              "      <td>2011-05-11 07:35:00</td>\n",
              "      <td>1.95</td>\n",
              "      <td>13098.0</td>\n",
              "      <td>35.0</td>\n",
              "      <td>2011</td>\n",
              "      <td>May</td>\n",
              "      <td>31</td>\n",
              "      <td>Wednesday</td>\n",
              "      <td>False</td>\n",
              "      <td>False</td>\n",
              "    </tr>\n",
              "    <tr>\n",
              "      <th>2</th>\n",
              "      <td>16783</td>\n",
              "      <td>2178</td>\n",
              "      <td>1939</td>\n",
              "      <td>4</td>\n",
              "      <td>2011-11-20 13:20:00</td>\n",
              "      <td>5.95</td>\n",
              "      <td>15044.0</td>\n",
              "      <td>35.0</td>\n",
              "      <td>2011</td>\n",
              "      <td>November</td>\n",
              "      <td>30</td>\n",
              "      <td>Sunday</td>\n",
              "      <td>False</td>\n",
              "      <td>False</td>\n",
              "    </tr>\n",
              "    <tr>\n",
              "      <th>3</th>\n",
              "      <td>16971</td>\n",
              "      <td>2115</td>\n",
              "      <td>2983</td>\n",
              "      <td>1</td>\n",
              "      <td>2011-11-22 12:07:00</td>\n",
              "      <td>0.83</td>\n",
              "      <td>15525.0</td>\n",
              "      <td>35.0</td>\n",
              "      <td>2011</td>\n",
              "      <td>November</td>\n",
              "      <td>30</td>\n",
              "      <td>Tuesday</td>\n",
              "      <td>False</td>\n",
              "      <td>False</td>\n",
              "    </tr>\n",
              "    <tr>\n",
              "      <th>4</th>\n",
              "      <td>6080</td>\n",
              "      <td>1210</td>\n",
              "      <td>2886</td>\n",
              "      <td>12</td>\n",
              "      <td>2011-05-06 09:00:00</td>\n",
              "      <td>1.65</td>\n",
              "      <td>13952.0</td>\n",
              "      <td>35.0</td>\n",
              "      <td>2011</td>\n",
              "      <td>May</td>\n",
              "      <td>31</td>\n",
              "      <td>Friday</td>\n",
              "      <td>False</td>\n",
              "      <td>False</td>\n",
              "    </tr>\n",
              "    <tr>\n",
              "      <th>...</th>\n",
              "      <td>...</td>\n",
              "      <td>...</td>\n",
              "      <td>...</td>\n",
              "      <td>...</td>\n",
              "      <td>...</td>\n",
              "      <td>...</td>\n",
              "      <td>...</td>\n",
              "      <td>...</td>\n",
              "      <td>...</td>\n",
              "      <td>...</td>\n",
              "      <td>...</td>\n",
              "      <td>...</td>\n",
              "      <td>...</td>\n",
              "      <td>...</td>\n",
              "    </tr>\n",
              "    <tr>\n",
              "      <th>169713</th>\n",
              "      <td>18485</td>\n",
              "      <td>1084</td>\n",
              "      <td>865</td>\n",
              "      <td>324</td>\n",
              "      <td>2011-12-08 18:43:00</td>\n",
              "      <td>3.39</td>\n",
              "      <td>18102.0</td>\n",
              "      <td>35.0</td>\n",
              "      <td>2011</td>\n",
              "      <td>December</td>\n",
              "      <td>31</td>\n",
              "      <td>Thursday</td>\n",
              "      <td>False</td>\n",
              "      <td>False</td>\n",
              "    </tr>\n",
              "    <tr>\n",
              "      <th>169714</th>\n",
              "      <td>4088</td>\n",
              "      <td>1076</td>\n",
              "      <td>3313</td>\n",
              "      <td>12</td>\n",
              "      <td>2011-03-18 12:26:00</td>\n",
              "      <td>0.85</td>\n",
              "      <td>15483.0</td>\n",
              "      <td>35.0</td>\n",
              "      <td>2011</td>\n",
              "      <td>March</td>\n",
              "      <td>31</td>\n",
              "      <td>Friday</td>\n",
              "      <td>False</td>\n",
              "      <td>False</td>\n",
              "    </tr>\n",
              "    <tr>\n",
              "      <th>169715</th>\n",
              "      <td>13424</td>\n",
              "      <td>2995</td>\n",
              "      <td>825</td>\n",
              "      <td>16</td>\n",
              "      <td>2011-10-05 15:17:00</td>\n",
              "      <td>0.65</td>\n",
              "      <td>14389.0</td>\n",
              "      <td>35.0</td>\n",
              "      <td>2011</td>\n",
              "      <td>October</td>\n",
              "      <td>31</td>\n",
              "      <td>Wednesday</td>\n",
              "      <td>False</td>\n",
              "      <td>False</td>\n",
              "    </tr>\n",
              "    <tr>\n",
              "      <th>169716</th>\n",
              "      <td>12104</td>\n",
              "      <td>2122</td>\n",
              "      <td>1376</td>\n",
              "      <td>2</td>\n",
              "      <td>2011-09-13 15:37:00</td>\n",
              "      <td>1.65</td>\n",
              "      <td>15998.0</td>\n",
              "      <td>35.0</td>\n",
              "      <td>2011</td>\n",
              "      <td>September</td>\n",
              "      <td>30</td>\n",
              "      <td>Tuesday</td>\n",
              "      <td>False</td>\n",
              "      <td>False</td>\n",
              "    </tr>\n",
              "    <tr>\n",
              "      <th>169717</th>\n",
              "      <td>15853</td>\n",
              "      <td>928</td>\n",
              "      <td>1248</td>\n",
              "      <td>2</td>\n",
              "      <td>2011-11-09 17:47:00</td>\n",
              "      <td>1.25</td>\n",
              "      <td>15531.0</td>\n",
              "      <td>35.0</td>\n",
              "      <td>2011</td>\n",
              "      <td>November</td>\n",
              "      <td>30</td>\n",
              "      <td>Wednesday</td>\n",
              "      <td>False</td>\n",
              "      <td>False</td>\n",
              "    </tr>\n",
              "  </tbody>\n",
              "</table>\n",
              "<p>169718 rows × 14 columns</p>\n",
              "</div>"
            ],
            "text/plain": [
              "        InvoiceNo  StockCode  Description  ...    WeekDay MonthEnd  YearEnd\n",
              "0            6141       1583          144  ...     Friday    False    False\n",
              "1            6349       1300         3682  ...  Wednesday    False    False\n",
              "2           16783       2178         1939  ...     Sunday    False    False\n",
              "3           16971       2115         2983  ...    Tuesday    False    False\n",
              "4            6080       1210         2886  ...     Friday    False    False\n",
              "...           ...        ...          ...  ...        ...      ...      ...\n",
              "169713      18485       1084          865  ...   Thursday    False    False\n",
              "169714       4088       1076         3313  ...     Friday    False    False\n",
              "169715      13424       2995          825  ...  Wednesday    False    False\n",
              "169716      12104       2122         1376  ...    Tuesday    False    False\n",
              "169717      15853        928         1248  ...  Wednesday    False    False\n",
              "\n",
              "[169718 rows x 14 columns]"
            ]
          },
          "metadata": {
            "tags": []
          },
          "execution_count": 18
        }
      ]
    },
    {
      "cell_type": "code",
      "metadata": {
        "id": "F0_PzE5uUMl9"
      },
      "source": [
        "use_cols = [\"Quantity\", \"Country\", \"InvoiceNo\",\t\"StockCode\", \"Description\", \"CustomerID\", \"Year\", \"Month\", \"Day\", \"WeekDay\", \"UnitPrice\"]\n",
        "train_data = raw_train[use_cols]"
      ],
      "execution_count": null,
      "outputs": []
    },
    {
      "cell_type": "code",
      "metadata": {
        "colab": {
          "base_uri": "https://localhost:8080/",
          "height": 415
        },
        "id": "5b16YMN2eeUy",
        "outputId": "d6b26570-5392-41ad-e4a5-eee9a0d266fc"
      },
      "source": [
        "train_data"
      ],
      "execution_count": null,
      "outputs": [
        {
          "output_type": "execute_result",
          "data": {
            "text/html": [
              "<div>\n",
              "<style scoped>\n",
              "    .dataframe tbody tr th:only-of-type {\n",
              "        vertical-align: middle;\n",
              "    }\n",
              "\n",
              "    .dataframe tbody tr th {\n",
              "        vertical-align: top;\n",
              "    }\n",
              "\n",
              "    .dataframe thead th {\n",
              "        text-align: right;\n",
              "    }\n",
              "</style>\n",
              "<table border=\"1\" class=\"dataframe\">\n",
              "  <thead>\n",
              "    <tr style=\"text-align: right;\">\n",
              "      <th></th>\n",
              "      <th>Quantity</th>\n",
              "      <th>Country</th>\n",
              "      <th>InvoiceNo</th>\n",
              "      <th>StockCode</th>\n",
              "      <th>Description</th>\n",
              "      <th>CustomerID</th>\n",
              "      <th>Year</th>\n",
              "      <th>Month</th>\n",
              "      <th>Day</th>\n",
              "      <th>WeekDay</th>\n",
              "      <th>UnitPrice</th>\n",
              "    </tr>\n",
              "  </thead>\n",
              "  <tbody>\n",
              "    <tr>\n",
              "      <th>0</th>\n",
              "      <td>3</td>\n",
              "      <td>35.0</td>\n",
              "      <td>6141</td>\n",
              "      <td>1583</td>\n",
              "      <td>144</td>\n",
              "      <td>14056.0</td>\n",
              "      <td>2011</td>\n",
              "      <td>May</td>\n",
              "      <td>31</td>\n",
              "      <td>Friday</td>\n",
              "      <td>3.75</td>\n",
              "    </tr>\n",
              "    <tr>\n",
              "      <th>1</th>\n",
              "      <td>6</td>\n",
              "      <td>35.0</td>\n",
              "      <td>6349</td>\n",
              "      <td>1300</td>\n",
              "      <td>3682</td>\n",
              "      <td>13098.0</td>\n",
              "      <td>2011</td>\n",
              "      <td>May</td>\n",
              "      <td>31</td>\n",
              "      <td>Wednesday</td>\n",
              "      <td>1.95</td>\n",
              "    </tr>\n",
              "    <tr>\n",
              "      <th>2</th>\n",
              "      <td>4</td>\n",
              "      <td>35.0</td>\n",
              "      <td>16783</td>\n",
              "      <td>2178</td>\n",
              "      <td>1939</td>\n",
              "      <td>15044.0</td>\n",
              "      <td>2011</td>\n",
              "      <td>November</td>\n",
              "      <td>30</td>\n",
              "      <td>Sunday</td>\n",
              "      <td>5.95</td>\n",
              "    </tr>\n",
              "    <tr>\n",
              "      <th>3</th>\n",
              "      <td>1</td>\n",
              "      <td>35.0</td>\n",
              "      <td>16971</td>\n",
              "      <td>2115</td>\n",
              "      <td>2983</td>\n",
              "      <td>15525.0</td>\n",
              "      <td>2011</td>\n",
              "      <td>November</td>\n",
              "      <td>30</td>\n",
              "      <td>Tuesday</td>\n",
              "      <td>0.83</td>\n",
              "    </tr>\n",
              "    <tr>\n",
              "      <th>4</th>\n",
              "      <td>12</td>\n",
              "      <td>35.0</td>\n",
              "      <td>6080</td>\n",
              "      <td>1210</td>\n",
              "      <td>2886</td>\n",
              "      <td>13952.0</td>\n",
              "      <td>2011</td>\n",
              "      <td>May</td>\n",
              "      <td>31</td>\n",
              "      <td>Friday</td>\n",
              "      <td>1.65</td>\n",
              "    </tr>\n",
              "    <tr>\n",
              "      <th>...</th>\n",
              "      <td>...</td>\n",
              "      <td>...</td>\n",
              "      <td>...</td>\n",
              "      <td>...</td>\n",
              "      <td>...</td>\n",
              "      <td>...</td>\n",
              "      <td>...</td>\n",
              "      <td>...</td>\n",
              "      <td>...</td>\n",
              "      <td>...</td>\n",
              "      <td>...</td>\n",
              "    </tr>\n",
              "    <tr>\n",
              "      <th>169713</th>\n",
              "      <td>324</td>\n",
              "      <td>35.0</td>\n",
              "      <td>18485</td>\n",
              "      <td>1084</td>\n",
              "      <td>865</td>\n",
              "      <td>18102.0</td>\n",
              "      <td>2011</td>\n",
              "      <td>December</td>\n",
              "      <td>31</td>\n",
              "      <td>Thursday</td>\n",
              "      <td>3.39</td>\n",
              "    </tr>\n",
              "    <tr>\n",
              "      <th>169714</th>\n",
              "      <td>12</td>\n",
              "      <td>35.0</td>\n",
              "      <td>4088</td>\n",
              "      <td>1076</td>\n",
              "      <td>3313</td>\n",
              "      <td>15483.0</td>\n",
              "      <td>2011</td>\n",
              "      <td>March</td>\n",
              "      <td>31</td>\n",
              "      <td>Friday</td>\n",
              "      <td>0.85</td>\n",
              "    </tr>\n",
              "    <tr>\n",
              "      <th>169715</th>\n",
              "      <td>16</td>\n",
              "      <td>35.0</td>\n",
              "      <td>13424</td>\n",
              "      <td>2995</td>\n",
              "      <td>825</td>\n",
              "      <td>14389.0</td>\n",
              "      <td>2011</td>\n",
              "      <td>October</td>\n",
              "      <td>31</td>\n",
              "      <td>Wednesday</td>\n",
              "      <td>0.65</td>\n",
              "    </tr>\n",
              "    <tr>\n",
              "      <th>169716</th>\n",
              "      <td>2</td>\n",
              "      <td>35.0</td>\n",
              "      <td>12104</td>\n",
              "      <td>2122</td>\n",
              "      <td>1376</td>\n",
              "      <td>15998.0</td>\n",
              "      <td>2011</td>\n",
              "      <td>September</td>\n",
              "      <td>30</td>\n",
              "      <td>Tuesday</td>\n",
              "      <td>1.65</td>\n",
              "    </tr>\n",
              "    <tr>\n",
              "      <th>169717</th>\n",
              "      <td>2</td>\n",
              "      <td>35.0</td>\n",
              "      <td>15853</td>\n",
              "      <td>928</td>\n",
              "      <td>1248</td>\n",
              "      <td>15531.0</td>\n",
              "      <td>2011</td>\n",
              "      <td>November</td>\n",
              "      <td>30</td>\n",
              "      <td>Wednesday</td>\n",
              "      <td>1.25</td>\n",
              "    </tr>\n",
              "  </tbody>\n",
              "</table>\n",
              "<p>169718 rows × 11 columns</p>\n",
              "</div>"
            ],
            "text/plain": [
              "        Quantity  Country  InvoiceNo  ...  Day    WeekDay  UnitPrice\n",
              "0              3     35.0       6141  ...   31     Friday       3.75\n",
              "1              6     35.0       6349  ...   31  Wednesday       1.95\n",
              "2              4     35.0      16783  ...   30     Sunday       5.95\n",
              "3              1     35.0      16971  ...   30    Tuesday       0.83\n",
              "4             12     35.0       6080  ...   31     Friday       1.65\n",
              "...          ...      ...        ...  ...  ...        ...        ...\n",
              "169713       324     35.0      18485  ...   31   Thursday       3.39\n",
              "169714        12     35.0       4088  ...   31     Friday       0.85\n",
              "169715        16     35.0      13424  ...   31  Wednesday       0.65\n",
              "169716         2     35.0      12104  ...   30    Tuesday       1.65\n",
              "169717         2     35.0      15853  ...   30  Wednesday       1.25\n",
              "\n",
              "[169718 rows x 11 columns]"
            ]
          },
          "metadata": {
            "tags": []
          },
          "execution_count": 20
        }
      ]
    },
    {
      "cell_type": "code",
      "metadata": {
        "colab": {
          "base_uri": "https://localhost:8080/",
          "height": 297
        },
        "id": "fN-Km1gkegVK",
        "outputId": "01be2ef7-31ca-4663-9424-10cff4165593"
      },
      "source": [
        "train_data.plot.scatter(x=\"Quantity\", y=\"UnitPrice\")"
      ],
      "execution_count": null,
      "outputs": [
        {
          "output_type": "execute_result",
          "data": {
            "text/plain": [
              "<matplotlib.axes._subplots.AxesSubplot at 0x7f023c6bcf60>"
            ]
          },
          "metadata": {
            "tags": []
          },
          "execution_count": 21
        },
        {
          "output_type": "display_data",
          "data": {
            "image/png": "[encoded data removed]",
            "text/plain": [
              "<Figure size 432x288 with 1 Axes>"
            ]
          },
          "metadata": {
            "tags": []
          }
        }
      ]
    },
    {
      "cell_type": "code",
      "metadata": {
        "id": "L7dh8jIzhhUD"
      },
      "source": [
        "X = train_data.iloc[:, :-1]\n",
        "y = train_data.iloc[:, -1]"
      ],
      "execution_count": null,
      "outputs": []
    },
    {
      "cell_type": "code",
      "metadata": {
        "id": "ACIB4rJumu57"
      },
      "source": [
        "X_train, X_test, y_train, y_test = train_test_split(X, y, test_size=0.25)"
      ],
      "execution_count": null,
      "outputs": []
    },
    {
      "cell_type": "code",
      "metadata": {
        "id": "vZzAPpFym2xW"
      },
      "source": [
        "from sklearn.preprocessing import MinMaxScaler, PowerTransformer\n",
        "\n",
        "numeric_features = [\"Quantity\", \"Country\", \"InvoiceNo\",\t\"StockCode\", \"Description\", \"CustomerID\"]\n",
        "numeric_transformer = Pipeline(steps=[\n",
        "    ('imputer', SimpleImputer(strategy='median')),\n",
        "    ('pt', PowerTransformer(method='yeo-johnson', standardize=True,))])\n",
        "\n",
        "categorical_features = [\"Year\", \"Month\", \"Day\", \"WeekDay\"]\n",
        "categorical_transformer = Pipeline(steps=[\n",
        "    ('imputer', SimpleImputer(strategy='most_frequent')),\n",
        "    ('onehot', OneHotEncoder(handle_unknown='error', drop='first'))])\n",
        "\n",
        "preprocessor = ColumnTransformer(\n",
        "    transformers=[\n",
        "        ('num', numeric_transformer, numeric_features),\n",
        "        ('cat', categorical_transformer, categorical_features)])"
      ],
      "execution_count": null,
      "outputs": []
    },
    {
      "cell_type": "code",
      "metadata": {
        "id": "eer8rwgaovBH"
      },
      "source": [
        "from sklearn.decomposition import TruncatedSVD\n",
        "\n",
        "clf = Pipeline(steps=[('preprocessor', preprocessor),\n",
        "                      ('classifier', CatBoostRegressor())])"
      ],
      "execution_count": null,
      "outputs": []
    },
    {
      "cell_type": "code",
      "metadata": {
        "colab": {
          "background_save": true,
          "base_uri": "https://localhost:8080/"
        },
        "id": "gIOhKLl5thk4",
        "outputId": "be1208b9-ec00-451a-9c8e-cdc73f94834a"
      },
      "source": [
        "clf.fit(X_train, y_train)"
      ],
      "execution_count": null,
      "outputs": [
        {
          "output_type": "execute_result",
          "data": {
            "text/plain": [
              "Pipeline(memory=None,\n",
              "         steps=[('preprocessor',\n",
              "                 ColumnTransformer(n_jobs=None, remainder='drop',\n",
              "                                   sparse_threshold=0.3,\n",
              "                                   transformer_weights=None,\n",
              "                                   transformers=[('num',\n",
              "                                                  Pipeline(memory=None,\n",
              "                                                           steps=[('imputer',\n",
              "                                                                   SimpleImputer(add_indicator=False,\n",
              "                                                                                 copy=True,\n",
              "                                                                                 fill_value=None,\n",
              "                                                                                 missing_values=nan,\n",
              "                                                                                 strategy='median',\n",
              "                                                                                 verbose=0)),\n",
              "                                                                  ('pt',\n",
              "                                                                   PowerTransformer(copy=True,\n",
              "                                                                                    method='yeo...\n",
              "                 RandomForestRegressor(bootstrap=True, ccp_alpha=0.0,\n",
              "                                       criterion='mse', max_depth=None,\n",
              "                                       max_features='auto', max_leaf_nodes=None,\n",
              "                                       max_samples=None,\n",
              "                                       min_impurity_decrease=0.0,\n",
              "                                       min_impurity_split=None,\n",
              "                                       min_samples_leaf=1, min_samples_split=2,\n",
              "                                       min_weight_fraction_leaf=0.0,\n",
              "                                       n_estimators=100, n_jobs=None,\n",
              "                                       oob_score=False, random_state=None,\n",
              "                                       verbose=0, warm_start=False))],\n",
              "         verbose=False)"
            ]
          },
          "metadata": {
            "tags": []
          },
          "execution_count": 0
        }
      ]
    },
    {
      "cell_type": "code",
      "metadata": {
        "colab": {
          "background_save": true
        },
        "id": "jZyE0bNN0RoD"
      },
      "source": [
        "y_pred = clf.predict(X_test)\n"
      ],
      "execution_count": null,
      "outputs": []
    },
    {
      "cell_type": "code",
      "metadata": {
        "colab": {
          "background_save": true,
          "base_uri": "https://localhost:8080/"
        },
        "id": "0reL-4Oi0wPi",
        "outputId": "2b0b6f72-0a74-4de9-98c2-55ebb9b3dcf8"
      },
      "source": [
        "\n",
        "y_pred"
      ],
      "execution_count": null,
      "outputs": [
        {
          "output_type": "execute_result",
          "data": {
            "text/plain": [
              "array([1.2574, 8.1213, 3.75  , ..., 2.95  , 9.95  , 0.4712])"
            ]
          },
          "metadata": {
            "tags": []
          },
          "execution_count": 0
        }
      ]
    },
    {
      "cell_type": "code",
      "metadata": {
        "colab": {
          "background_save": true,
          "base_uri": "https://localhost:8080/"
        },
        "id": "fMriraVF2BQU",
        "outputId": "2a03bbf4-08fc-4720-fe8b-9a87865da304"
      },
      "source": [
        "y_test"
      ],
      "execution_count": null,
      "outputs": [
        {
          "output_type": "execute_result",
          "data": {
            "text/plain": [
              "35543     1.25\n",
              "89209     5.95\n",
              "115432    3.75\n",
              "90599     1.65\n",
              "12310     2.10\n",
              "          ... \n",
              "13749     9.95\n",
              "133883    2.10\n",
              "146597    2.95\n",
              "25385     9.95\n",
              "116040    0.39\n",
              "Name: UnitPrice, Length: 42430, dtype: float64"
            ]
          },
          "metadata": {
            "tags": []
          },
          "execution_count": 0
        }
      ]
    },
    {
      "cell_type": "code",
      "metadata": {
        "colab": {
          "background_save": true,
          "base_uri": "https://localhost:8080/"
        },
        "id": "mBVl4SIW2IxD",
        "outputId": "601e0776-7528-4f2e-9a1f-ca9d25323947"
      },
      "source": [
        "mean_squared_error(y_test, y_pred)"
      ],
      "execution_count": null,
      "outputs": [
        {
          "output_type": "execute_result",
          "data": {
            "text/plain": [
              "670.6642753897834"
            ]
          },
          "metadata": {
            "tags": []
          },
          "execution_count": 0
        }
      ]
    },
    {
      "cell_type": "code",
      "metadata": {
        "id": "FIlvVUIxuAva"
      },
      "source": [
        "pipeline_lr = Pipeline([('preprocessor', preprocessor),\n",
        "                     ('pca1',PCA(0.95)), \n",
        "                     ('lr_classifier',LogisticRegression())])\n",
        "pipeline_dt = Pipeline([('preprocessor', preprocessor),\n",
        "                     ('pca1',PCA(0.95)),\n",
        "                     ('dt_classifier',DecisionTreeClassifier())])\n",
        "pipeline_svm = Pipeline([('preprocessor', preprocessor),\n",
        "                      ('pca1',PCA(0.95)),\n",
        "                      ('clf', svm.SVC())])\n",
        "pipeline_knn = Pipeline([('preprocessor', preprocessor),\n",
        "                     ('pca1',PCA(0.95)),\n",
        "                     ('knn_classifier',KNeighborsClassifier())])\n",
        "pipelines = [pipeline_lr, pipeline_dt, pipeline_randomforest, pipeline_knn]\n",
        "pipe_dict = {0: 'Logistic Regression', 1: 'Decision Tree', 2: 'Support Vector Machine',3:'K Nearest Neighbor'}\n",
        "for pipe in pipelines:\n",
        "  pipe.fit(X_train, y_train)\n",
        "for i,model in enumerate(pipelines):\n",
        "    print(\"{} Test Accuracy:{}\".format(pipe_dict[i],model.score(X_test,y_test)))"
      ],
      "execution_count": null,
      "outputs": []
    },
    {
      "cell_type": "code",
      "metadata": {
        "id": "TFP7YFExhzyr"
      },
      "source": [
        ""
      ],
      "execution_count": null,
      "outputs": []
    },
    {
      "cell_type": "code",
      "metadata": {
        "id": "nUF7HpBzOM0D"
      },
      "source": [
        ""
      ],
      "execution_count": null,
      "outputs": []
    }
  ]
}